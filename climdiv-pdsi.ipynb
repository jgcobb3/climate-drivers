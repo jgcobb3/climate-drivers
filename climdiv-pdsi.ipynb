{
 "cells": [
  {
   "cell_type": "code",
   "execution_count": 19,
   "metadata": {},
   "outputs": [
    {
     "data": {
      "text/html": [
       "<div>\n",
       "<style scoped>\n",
       "    .dataframe tbody tr th:only-of-type {\n",
       "        vertical-align: middle;\n",
       "    }\n",
       "\n",
       "    .dataframe tbody tr th {\n",
       "        vertical-align: top;\n",
       "    }\n",
       "\n",
       "    .dataframe thead th {\n",
       "        text-align: right;\n",
       "    }\n",
       "</style>\n",
       "<table border=\"1\" class=\"dataframe\">\n",
       "  <thead>\n",
       "    <tr style=\"text-align: right;\">\n",
       "      <th></th>\n",
       "      <th>STDIV</th>\n",
       "      <th>YEAR</th>\n",
       "      <th>MONTH</th>\n",
       "      <th>PDSI</th>\n",
       "    </tr>\n",
       "  </thead>\n",
       "  <tbody>\n",
       "    <tr>\n",
       "      <th>0</th>\n",
       "      <td>1001</td>\n",
       "      <td>1968</td>\n",
       "      <td>1</td>\n",
       "      <td>3.66</td>\n",
       "    </tr>\n",
       "    <tr>\n",
       "      <th>1</th>\n",
       "      <td>1001</td>\n",
       "      <td>1969</td>\n",
       "      <td>1</td>\n",
       "      <td>-1.11</td>\n",
       "    </tr>\n",
       "    <tr>\n",
       "      <th>2</th>\n",
       "      <td>1001</td>\n",
       "      <td>1970</td>\n",
       "      <td>1</td>\n",
       "      <td>-0.67</td>\n",
       "    </tr>\n",
       "    <tr>\n",
       "      <th>3</th>\n",
       "      <td>1001</td>\n",
       "      <td>1971</td>\n",
       "      <td>1</td>\n",
       "      <td>0.13</td>\n",
       "    </tr>\n",
       "    <tr>\n",
       "      <th>4</th>\n",
       "      <td>1001</td>\n",
       "      <td>1972</td>\n",
       "      <td>1</td>\n",
       "      <td>0.84</td>\n",
       "    </tr>\n",
       "    <tr>\n",
       "      <th>5</th>\n",
       "      <td>1001</td>\n",
       "      <td>1973</td>\n",
       "      <td>1</td>\n",
       "      <td>2.00</td>\n",
       "    </tr>\n",
       "    <tr>\n",
       "      <th>...</th>\n",
       "      <td>...</td>\n",
       "      <td>...</td>\n",
       "      <td>...</td>\n",
       "      <td>...</td>\n",
       "    </tr>\n",
       "    <tr>\n",
       "      <th>228473</th>\n",
       "      <td>48010</td>\n",
       "      <td>2012</td>\n",
       "      <td>12</td>\n",
       "      <td>-6.13</td>\n",
       "    </tr>\n",
       "    <tr>\n",
       "      <th>228474</th>\n",
       "      <td>48010</td>\n",
       "      <td>2013</td>\n",
       "      <td>12</td>\n",
       "      <td>2.03</td>\n",
       "    </tr>\n",
       "    <tr>\n",
       "      <th>228475</th>\n",
       "      <td>48010</td>\n",
       "      <td>2014</td>\n",
       "      <td>12</td>\n",
       "      <td>-0.19</td>\n",
       "    </tr>\n",
       "    <tr>\n",
       "      <th>228476</th>\n",
       "      <td>48010</td>\n",
       "      <td>2015</td>\n",
       "      <td>12</td>\n",
       "      <td>0.15</td>\n",
       "    </tr>\n",
       "    <tr>\n",
       "      <th>228477</th>\n",
       "      <td>48010</td>\n",
       "      <td>2016</td>\n",
       "      <td>12</td>\n",
       "      <td>0.30</td>\n",
       "    </tr>\n",
       "    <tr>\n",
       "      <th>228478</th>\n",
       "      <td>48010</td>\n",
       "      <td>2017</td>\n",
       "      <td>12</td>\n",
       "      <td>-1.56</td>\n",
       "    </tr>\n",
       "  </tbody>\n",
       "</table>\n",
       "<p>206400 rows × 4 columns</p>\n",
       "</div>"
      ],
      "text/plain": [
       "        STDIV  YEAR  MONTH  PDSI\n",
       "0        1001  1968      1  3.66\n",
       "1        1001  1969      1 -1.11\n",
       "2        1001  1970      1 -0.67\n",
       "3        1001  1971      1  0.13\n",
       "4        1001  1972      1  0.84\n",
       "5        1001  1973      1  2.00\n",
       "...       ...   ...    ...   ...\n",
       "228473  48010  2012     12 -6.13\n",
       "228474  48010  2013     12  2.03\n",
       "228475  48010  2014     12 -0.19\n",
       "228476  48010  2015     12  0.15\n",
       "228477  48010  2016     12  0.30\n",
       "228478  48010  2017     12 -1.56\n",
       "\n",
       "[206400 rows x 4 columns]"
      ]
     },
     "execution_count": 19,
     "metadata": {},
     "output_type": "execute_result"
    }
   ],
   "source": [
    "import pandas as pd\n",
    "\n",
    "pd.set_option(\"display.max_rows\",12)\n",
    "\n",
    "df = pd.read_csv('data/climdiv-temp.csv')\n",
    "df = df[['STDIV', 'YEAR', 'MONTH', 'PDSI']]\n",
    "df = df.loc[(df.STDIV <= 48999) & (df.YEAR < 2018)]\n",
    "df"
   ]
  },
  {
   "cell_type": "code",
   "execution_count": 22,
   "metadata": {},
   "outputs": [
    {
     "data": {
      "text/plain": [
       "STDIV\n",
       "1001    -0.043250\n",
       "1002    -0.068667\n",
       "1003    -0.185500\n",
       "1004    -0.376083\n",
       "1005    -0.604167\n",
       "1006    -0.451750\n",
       "           ...   \n",
       "48005   -0.290083\n",
       "48006    1.682833\n",
       "48007    0.740917\n",
       "48008    0.490583\n",
       "48009    0.003000\n",
       "48010   -0.016333\n",
       "Name: PDSI, Length: 344, dtype: float64"
      ]
     },
     "execution_count": 22,
     "metadata": {},
     "output_type": "execute_result"
    }
   ],
   "source": [
    "df.loc[df.YEAR.isin(range(2008, 2018))].groupby('STDIV').PDSI.mean()"
   ]
  },
  {
   "cell_type": "code",
   "execution_count": 23,
   "metadata": {},
   "outputs": [
    {
     "data": {
      "text/plain": [
       "STDIV\n",
       "1001     1.904277\n",
       "1002     2.139628\n",
       "1003     1.994004\n",
       "1004     2.394815\n",
       "1005     2.498108\n",
       "1006     2.077071\n",
       "           ...   \n",
       "48005    2.608625\n",
       "48006    3.454196\n",
       "48007    2.736645\n",
       "48008    3.164629\n",
       "48009    2.896948\n",
       "48010    3.269429\n",
       "Name: PDSI, Length: 344, dtype: float64"
      ]
     },
     "execution_count": 23,
     "metadata": {},
     "output_type": "execute_result"
    }
   ],
   "source": [
    "df.loc[df.YEAR.isin(range(2008, 2018))].groupby('STDIV').PDSI.std()"
   ]
  },
  {
   "cell_type": "code",
   "execution_count": null,
   "metadata": {},
   "outputs": [],
   "source": []
  }
 ],
 "metadata": {
  "kernelspec": {
   "display_name": "Python 3",
   "language": "python",
   "name": "python3"
  },
  "language_info": {
   "codemirror_mode": {
    "name": "ipython",
    "version": 3
   },
   "file_extension": ".py",
   "mimetype": "text/x-python",
   "name": "python",
   "nbconvert_exporter": "python",
   "pygments_lexer": "ipython3",
   "version": "3.5.3"
  }
 },
 "nbformat": 4,
 "nbformat_minor": 2
}
